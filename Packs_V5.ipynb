{
  "nbformat": 4,
  "nbformat_minor": 0,
  "metadata": {
    "colab": {
      "name": "Packs V5.ipynb",
      "provenance": [],
      "collapsed_sections": [],
      "authorship_tag": "ABX9TyMithAIUIm5wHk+09hWTPG2",
      "include_colab_link": true
    },
    "kernelspec": {
      "name": "python3",
      "display_name": "Python 3"
    },
    "language_info": {
      "name": "python"
    }
  },
  "cells": [
    {
      "cell_type": "markdown",
      "metadata": {
        "id": "view-in-github",
        "colab_type": "text"
      },
      "source": [
        "<a href=\"https://colab.research.google.com/github/pjseoane/AlgoTrading/blob/master/Packs_V5.ipynb\" target=\"_parent\"><img src=\"https://colab.research.google.com/assets/colab-badge.svg\" alt=\"Open In Colab\"/></a>"
      ]
    },
    {
      "cell_type": "code",
      "metadata": {
        "id": "CIBGvUYhmEIl"
      },
      "source": [
        "from pandas_datareader import data as pdr\n",
        "#https://pandas-datareader.readthedocs.io/en/latest/remote_data.html\n",
        "\n",
        "import collections\n",
        "\n",
        "import matplotlib.pyplot as plt\n",
        "import seaborn as sns\n",
        "%matplotlib inline\n",
        "\n",
        "from datetime import datetime\n",
        "#>>> datetime.today().strftime('%Y-%m-%d')\n",
        "#'2021-01-26'"
      ],
      "execution_count": 1,
      "outputs": []
    },
    {
      "cell_type": "code",
      "metadata": {
        "id": "x6XwsMzwmHW0",
        "colab": {
          "base_uri": "https://localhost:8080/"
        },
        "outputId": "9117d028-395b-4f4c-d133-7efb9536f465"
      },
      "source": [
        "!pip install yfinance"
      ],
      "execution_count": 2,
      "outputs": [
        {
          "output_type": "stream",
          "text": [
            "Requirement already satisfied: yfinance in /usr/local/lib/python3.7/dist-packages (0.1.63)\n",
            "Requirement already satisfied: requests>=2.20 in /usr/local/lib/python3.7/dist-packages (from yfinance) (2.23.0)\n",
            "Requirement already satisfied: lxml>=4.5.1 in /usr/local/lib/python3.7/dist-packages (from yfinance) (4.6.3)\n",
            "Requirement already satisfied: numpy>=1.15 in /usr/local/lib/python3.7/dist-packages (from yfinance) (1.19.5)\n",
            "Requirement already satisfied: multitasking>=0.0.7 in /usr/local/lib/python3.7/dist-packages (from yfinance) (0.0.9)\n",
            "Requirement already satisfied: pandas>=0.24 in /usr/local/lib/python3.7/dist-packages (from yfinance) (1.1.5)\n",
            "Requirement already satisfied: python-dateutil>=2.7.3 in /usr/local/lib/python3.7/dist-packages (from pandas>=0.24->yfinance) (2.8.1)\n",
            "Requirement already satisfied: pytz>=2017.2 in /usr/local/lib/python3.7/dist-packages (from pandas>=0.24->yfinance) (2018.9)\n",
            "Requirement already satisfied: six>=1.5 in /usr/local/lib/python3.7/dist-packages (from python-dateutil>=2.7.3->pandas>=0.24->yfinance) (1.15.0)\n",
            "Requirement already satisfied: urllib3!=1.25.0,!=1.25.1,<1.26,>=1.21.1 in /usr/local/lib/python3.7/dist-packages (from requests>=2.20->yfinance) (1.24.3)\n",
            "Requirement already satisfied: chardet<4,>=3.0.2 in /usr/local/lib/python3.7/dist-packages (from requests>=2.20->yfinance) (3.0.4)\n",
            "Requirement already satisfied: certifi>=2017.4.17 in /usr/local/lib/python3.7/dist-packages (from requests>=2.20->yfinance) (2021.5.30)\n",
            "Requirement already satisfied: idna<3,>=2.5 in /usr/local/lib/python3.7/dist-packages (from requests>=2.20->yfinance) (2.10)\n"
          ],
          "name": "stdout"
        }
      ]
    },
    {
      "cell_type": "code",
      "metadata": {
        "id": "MCvNSDiLnm_5"
      },
      "source": [
        "import yfinance as yf\n",
        "#https://pypi.org/project/yfinance/\n",
        "yf.pdr_override() # <== that's all it takes :-)"
      ],
      "execution_count": 3,
      "outputs": []
    },
    {
      "cell_type": "code",
      "metadata": {
        "id": "tYdkeiKMuSJt"
      },
      "source": [
        "class cNewPack():\n",
        "  def __init__(self, pack_dictionary,start_date,end_date):\n",
        "    \n",
        "    self.pack_dictionary=pack_dictionary\n",
        "    self.start_date=start_date\n",
        "    self.end_date=end_date\n",
        "\n",
        "    sortedPack=collections.OrderedDict(sorted(self.pack_dictionary.items())) \n",
        "    sortedTupleKeys=list(sortedPack.keys())\n",
        "    sortedTupleValues=list(sortedPack.values())\n",
        "    CCL=['GGAL.BA','GGAL']\n",
        "\n",
        "    self.panel_stocks = pdr.get_data_yahoo(sortedTupleKeys, start=self.start_date, end=self.end_date)\n",
        "    self.panel_CCL=pdr.get_data_yahoo(CCL, start=self.start_date, end=self.end_date)\n",
        "    self.panel_CCL['FX']=self.panel_CCL.Close['GGAL.BA']*10/self.panel_CCL.Close['GGAL']\n",
        "\n",
        "        \n",
        "    self.panel_stocks_wgt=self.panel_stocks.Close * sortedTupleValues\n",
        "    self.panel_stocks_wgt['Pack_USD']=self.panel_stocks_wgt.sum(axis=1)\n",
        "\n",
        "    self.panel_stocks_wgt['CCL']=self.panel_CCL.FX\n",
        "\n",
        "    self.panel_stocks_wgt['Pack_ARS']=self.panel_stocks_wgt.Pack_USD*self.panel_stocks_wgt.CCL\n",
        "\n",
        "    #para llenar los gaps\n",
        "    self.panel_normalized=self.panel_stocks_wgt.ffill().bfill()\n",
        "\n",
        "  def getPackEvolution(self):\n",
        "    return self.panel_normalized\n",
        "\n",
        "  def getPanelCCL(self):\n",
        "    return self.panel_CCL.FX\n",
        "\n",
        "  def getPanelStocks(self):\n",
        "    return self.panel_stocks\n",
        "\n",
        "  def getPackPlot(self):\n",
        "    #https://www.geeksforgeeks.org/how-to-add-a-y-axis-label-to-the-secondary-y-axis-in-matplotlib/\n",
        "    \n",
        "    y1=self.panel_normalized['Pack_ARS']\n",
        "    y2=self.panel_normalized['CCL']\n",
        "    fig, ax=plt.subplots(figsize = (10, 5))\n",
        "    plt.title('Packs vs CCL')\n",
        "\n",
        "    ax.set_xlabel('Fechas', color = 'r')\n",
        "    ax2=ax.twinx()\n",
        "    ax.set_ylabel('Pack ARS', color = 'g')\n",
        "    ax2.set_ylabel('CCL', color = 'b')\n",
        "    \n",
        "    ax.plot(y1,color='g')\n",
        "    ax2.plot(y2,color='b')\n",
        "\n",
        "    plt.tight_layout()\n",
        "    plt.show()\n",
        "\n",
        "    return\n",
        "\n",
        "  def writePanel_to_CSV(self):\n",
        "    self.panel_normalized.to_csv('pack table', index=None)\n",
        "    return\n",
        "\n",
        "  def getCorrelationMatrix(self):\n",
        "    return self.panel_stocks.Close.corr()\n",
        "\n",
        "  def getStocksRecommendation(self):\n",
        "    #arma un dict con toda la info de las empresas\n",
        "    dict_info={}\n",
        "    for key,values in self.pack_dictionary.items():\n",
        "      try:\n",
        "        dict_info[key]=yf.Ticker(key).info\n",
        "      except:\n",
        "        exit\n",
        "\n",
        "    dict_calificaciones={}\n",
        "    for key,values in dict_info.items():\n",
        "      try:\n",
        "        dict_calificaciones[key]=dict_info[key]['recommendationMean']\n",
        "      \n",
        "      except:\n",
        "        exit\n",
        "    return dict_calificaciones   \n",
        "\n",
        "  \n"
      ],
      "execution_count": 4,
      "outputs": []
    },
    {
      "cell_type": "code",
      "metadata": {
        "colab": {
          "base_uri": "https://localhost:8080/"
        },
        "id": "ChKk7B3TyYLP",
        "outputId": "1d94caca-850f-45d9-f6b3-f46e2f7a764a"
      },
      "source": [
        "Pack_5G_dict={'AAPL': 8/10,'QCOM': 8/11, 'ADI': 2/3, 'AMD': 1/0.5,'SPY':0}\n",
        "start_date = '2021-05-07'\n",
        "#end_date = '2021-08-10'\n",
        "end_date=datetime.today().strftime('%Y-%m-%d')\n",
        "Pack_5G=cNewPack(Pack_5G_dict,start_date,end_date)"
      ],
      "execution_count": 5,
      "outputs": [
        {
          "output_type": "stream",
          "text": [
            "[*********************100%***********************]  5 of 5 completed\n",
            "[*********************100%***********************]  2 of 2 completed\n"
          ],
          "name": "stdout"
        }
      ]
    },
    {
      "cell_type": "code",
      "metadata": {
        "id": "WsX9_84aJMeX"
      },
      "source": [
        "sr=Pack_5G.getStocksRecommendation()"
      ],
      "execution_count": 6,
      "outputs": []
    },
    {
      "cell_type": "code",
      "metadata": {
        "colab": {
          "base_uri": "https://localhost:8080/"
        },
        "id": "BVoHjdqX28Ke",
        "outputId": "1bdfc458-44ef-43c6-a5c4-4cd6d4f6d38c"
      },
      "source": [
        "sr"
      ],
      "execution_count": 11,
      "outputs": [
        {
          "output_type": "execute_result",
          "data": {
            "text/plain": [
              "{'AAPL': 2, 'ADI': 1.7, 'AMD': 2.3, 'QCOM': 2}"
            ]
          },
          "metadata": {
            "tags": []
          },
          "execution_count": 11
        }
      ]
    },
    {
      "cell_type": "code",
      "metadata": {
        "colab": {
          "base_uri": "https://localhost:8080/"
        },
        "id": "82IY2U59jkOS",
        "outputId": "1211af01-c2d1-47dc-ece7-eb50cb7f2e6f"
      },
      "source": [
        "sum(Pack_5G_dict.values())"
      ],
      "execution_count": 8,
      "outputs": [
        {
          "output_type": "execute_result",
          "data": {
            "text/plain": [
              "4.193939393939393"
            ]
          },
          "metadata": {
            "tags": []
          },
          "execution_count": 8
        }
      ]
    },
    {
      "cell_type": "code",
      "metadata": {
        "colab": {
          "base_uri": "https://localhost:8080/"
        },
        "id": "hplco_B8tult",
        "outputId": "2ab7c368-fb70-4ade-c2d6-bc5ec090d9a5"
      },
      "source": [
        "recomendWgt=0\n",
        "tot=sum(Pack_5G_dict.values())\n",
        "for key,values in Pack_5G_dict.items():\n",
        "      try:\n",
        "        recomendWgt+=Pack_5G_dict[key]* sr[key]\n",
        "      except:\n",
        "        exit\n",
        "recomendWgt/sum(Pack_5G_dict.values())"
      ],
      "execution_count": 10,
      "outputs": [
        {
          "output_type": "execute_result",
          "data": {
            "text/plain": [
              "2.095375722543353"
            ]
          },
          "metadata": {
            "tags": []
          },
          "execution_count": 10
        }
      ]
    },
    {
      "cell_type": "code",
      "metadata": {
        "id": "mm524t_jiPGs"
      },
      "source": [
        "sortedR=collections.OrderedDict(sorted(sr.items())) \n",
        "sortedRKeys=list(sortedR.keys())\n",
        "sortedRValues=list(sortedR.values())\n",
        "sortedRValues"
      ],
      "execution_count": null,
      "outputs": []
    },
    {
      "cell_type": "code",
      "metadata": {
        "id": "o16EZ1tksSoJ"
      },
      "source": [
        "sortedPack=collections.OrderedDict(sorted(Pack_5G_dict.items())) \n",
        "sortedTupleKeys=list(sortedPack.keys())\n",
        "sortedTupleValues=list(sortedPack.values())\n",
        "sortedTupleValues"
      ],
      "execution_count": null,
      "outputs": []
    },
    {
      "cell_type": "code",
      "metadata": {
        "id": "yIvgDiKijTTL"
      },
      "source": [
        "sortedTupleCalifications"
      ],
      "execution_count": null,
      "outputs": []
    },
    {
      "cell_type": "code",
      "metadata": {
        "id": "q4g_04Op103w"
      },
      "source": [
        "\n",
        "#arma un dict con toda la info de las empresas\n",
        "dict_info={}\n",
        "for key,values in Pack_5G_dict.items():\n",
        "  try:\n",
        "    #Dict_calificaciones[key]=yf.Ticker(key).info['recommendationMean']\n",
        "    dict_info[key]=yf.Ticker(key).info\n",
        "  except:\n",
        "    #print(\"error\")\n",
        "    exit "
      ],
      "execution_count": null,
      "outputs": []
    },
    {
      "cell_type": "code",
      "metadata": {
        "id": "jgHmwbDzEta2"
      },
      "source": [
        "dict_calificaciones={}\n",
        "for key,values in dict_info.items():\n",
        "  try:\n",
        "    dict_calificaciones[key]=dict_info[key]['recommendationMean']\n",
        "    #print(dict_info[key]['recommendationMean'])\n",
        "  except:\n",
        "    exit\n",
        "dict_calificaciones"
      ],
      "execution_count": null,
      "outputs": []
    },
    {
      "cell_type": "code",
      "metadata": {
        "id": "EjLJ-BT7GZXH"
      },
      "source": [
        "dict_info['AMD']['recommendationMean']"
      ],
      "execution_count": null,
      "outputs": []
    },
    {
      "cell_type": "code",
      "metadata": {
        "id": "V7eFdudwyn0J"
      },
      "source": [
        "Pack_5G.getPackEvolution().describe()"
      ],
      "execution_count": null,
      "outputs": []
    },
    {
      "cell_type": "code",
      "metadata": {
        "id": "ijt0zTfW4ZBM"
      },
      "source": [
        "Pack_5G.getPackEvolution()"
      ],
      "execution_count": null,
      "outputs": []
    },
    {
      "cell_type": "code",
      "metadata": {
        "id": "C-AT0okDz6SZ"
      },
      "source": [
        "Pack_5G.getPanelCCL()"
      ],
      "execution_count": null,
      "outputs": []
    },
    {
      "cell_type": "code",
      "metadata": {
        "id": "AjJwkGLC0iOd"
      },
      "source": [
        "Pack_5G.getPanelStocks()"
      ],
      "execution_count": null,
      "outputs": []
    },
    {
      "cell_type": "code",
      "metadata": {
        "id": "B1Kc8CDl1zZ6"
      },
      "source": [
        "Pack_5G.getPackPlot()"
      ],
      "execution_count": null,
      "outputs": []
    },
    {
      "cell_type": "code",
      "metadata": {
        "id": "LTT6E5km2XtL"
      },
      "source": [
        "Pack_5G.getCorrelationMatrix()"
      ],
      "execution_count": null,
      "outputs": []
    },
    {
      "cell_type": "code",
      "metadata": {
        "id": "jUneWPhi8Wvz"
      },
      "source": [
        "ticker=yf.Ticker('QCOM')\n",
        "ticker.history(period=\"1y\")"
      ],
      "execution_count": null,
      "outputs": []
    },
    {
      "cell_type": "code",
      "metadata": {
        "id": "LRdO3bNcLIqB"
      },
      "source": [
        "Pack_IAv1={'NVDA': 12/24,'FB': 2/8, 'GOOGL': 2/58, 'AMZN': 3/144}\n",
        "start_date = '2021-05-14'\n",
        "datetime.today().strftime('%Y-%m-%d')\n",
        "Pack_IAv1=cNewPack(Pack_IAv1,start_date,end_date)"
      ],
      "execution_count": null,
      "outputs": []
    },
    {
      "cell_type": "code",
      "metadata": {
        "id": "VFKi4GbyMqyX"
      },
      "source": [
        "Pack_IAv1.getPackEvolution()"
      ],
      "execution_count": null,
      "outputs": []
    },
    {
      "cell_type": "code",
      "metadata": {
        "id": "8KvvcOgqRMx_"
      },
      "source": [
        "Pack_IAv1.getPackPlot()"
      ],
      "execution_count": null,
      "outputs": []
    },
    {
      "cell_type": "code",
      "metadata": {
        "id": "l_hNyda8RVj7"
      },
      "source": [
        "Pack_IAv1.getCorrelationMatrix()"
      ],
      "execution_count": null,
      "outputs": []
    }
  ]
}
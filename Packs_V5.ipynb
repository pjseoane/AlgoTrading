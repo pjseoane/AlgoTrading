{
  "nbformat": 4,
  "nbformat_minor": 0,
  "metadata": {
    "colab": {
      "name": "Packs V5.ipynb",
      "provenance": [],
      "collapsed_sections": [],
      "authorship_tag": "ABX9TyNTCzsHN5M/kg+IDJ/wd/pq",
      "include_colab_link": true
    },
    "kernelspec": {
      "name": "python3",
      "display_name": "Python 3"
    },
    "language_info": {
      "name": "python"
    }
  },
  "cells": [
    {
      "cell_type": "markdown",
      "metadata": {
        "id": "view-in-github",
        "colab_type": "text"
      },
      "source": [
        "<a href=\"https://colab.research.google.com/github/pjseoane/AlgoTrading/blob/master/Packs_V5.ipynb\" target=\"_parent\"><img src=\"https://colab.research.google.com/assets/colab-badge.svg\" alt=\"Open In Colab\"/></a>"
      ]
    },
    {
      "cell_type": "code",
      "metadata": {
        "id": "CIBGvUYhmEIl"
      },
      "source": [
        "from pandas_datareader import data as pdr\n",
        "#https://pandas-datareader.readthedocs.io/en/latest/remote_data.html\n",
        "\n",
        "import collections\n",
        "\n",
        "import matplotlib.pyplot as plt\n",
        "import seaborn as sns\n",
        "%matplotlib inline\n",
        "\n",
        "from datetime import datetime\n",
        "#>>> datetime.today().strftime('%Y-%m-%d')\n",
        "#'2021-01-26'"
      ],
      "execution_count": 12,
      "outputs": []
    },
    {
      "cell_type": "code",
      "metadata": {
        "id": "x6XwsMzwmHW0",
        "colab": {
          "base_uri": "https://localhost:8080/"
        },
        "outputId": "a237c8ed-3c6d-4c5c-91c8-174f43261dc9"
      },
      "source": [
        "!pip install yfinance"
      ],
      "execution_count": 13,
      "outputs": [
        {
          "output_type": "stream",
          "text": [
            "Requirement already satisfied: yfinance in /usr/local/lib/python3.7/dist-packages (0.1.63)\n",
            "Requirement already satisfied: multitasking>=0.0.7 in /usr/local/lib/python3.7/dist-packages (from yfinance) (0.0.9)\n",
            "Requirement already satisfied: requests>=2.20 in /usr/local/lib/python3.7/dist-packages (from yfinance) (2.23.0)\n",
            "Requirement already satisfied: pandas>=0.24 in /usr/local/lib/python3.7/dist-packages (from yfinance) (1.1.5)\n",
            "Requirement already satisfied: numpy>=1.15 in /usr/local/lib/python3.7/dist-packages (from yfinance) (1.19.5)\n",
            "Requirement already satisfied: lxml>=4.5.1 in /usr/local/lib/python3.7/dist-packages (from yfinance) (4.6.3)\n",
            "Requirement already satisfied: python-dateutil>=2.7.3 in /usr/local/lib/python3.7/dist-packages (from pandas>=0.24->yfinance) (2.8.1)\n",
            "Requirement already satisfied: pytz>=2017.2 in /usr/local/lib/python3.7/dist-packages (from pandas>=0.24->yfinance) (2018.9)\n",
            "Requirement already satisfied: six>=1.5 in /usr/local/lib/python3.7/dist-packages (from python-dateutil>=2.7.3->pandas>=0.24->yfinance) (1.15.0)\n",
            "Requirement already satisfied: chardet<4,>=3.0.2 in /usr/local/lib/python3.7/dist-packages (from requests>=2.20->yfinance) (3.0.4)\n",
            "Requirement already satisfied: certifi>=2017.4.17 in /usr/local/lib/python3.7/dist-packages (from requests>=2.20->yfinance) (2021.5.30)\n",
            "Requirement already satisfied: idna<3,>=2.5 in /usr/local/lib/python3.7/dist-packages (from requests>=2.20->yfinance) (2.10)\n",
            "Requirement already satisfied: urllib3!=1.25.0,!=1.25.1,<1.26,>=1.21.1 in /usr/local/lib/python3.7/dist-packages (from requests>=2.20->yfinance) (1.24.3)\n"
          ],
          "name": "stdout"
        }
      ]
    },
    {
      "cell_type": "code",
      "metadata": {
        "id": "MCvNSDiLnm_5"
      },
      "source": [
        "import yfinance as yf\n",
        "#https://pypi.org/project/yfinance/\n",
        "yf.pdr_override() # <== that's all it takes :-)"
      ],
      "execution_count": 14,
      "outputs": []
    },
    {
      "cell_type": "code",
      "metadata": {
        "id": "tYdkeiKMuSJt"
      },
      "source": [
        "class cNewPack():\n",
        "  def __init__(self, pack_dictionary,start_date,end_date):\n",
        "    \n",
        "    self.pack_dictionary=pack_dictionary\n",
        "    self.start_date=start_date\n",
        "    self.end_date=end_date\n",
        "\n",
        "    self.totalPack=sum(self.pack_dictionary.values())\n",
        "\n",
        "    #ordena el diccionario de entrada para ser compatible con el dataframe generado por Yahoo\n",
        "    sortedPack=collections.OrderedDict(sorted(self.pack_dictionary.items())) \n",
        "    sortedTupleKeys=list(sortedPack.keys())\n",
        "    sortedTupleValues=list(sortedPack.values())\n",
        "    CCL=['GGAL.BA','GGAL']\n",
        "\n",
        "    #consulta la API de yahoo con los datos del pack y los datos de las acciones para CCL\n",
        "    self.panel_stocks = pdr.get_data_yahoo(sortedTupleKeys, start=self.start_date, end=self.end_date)\n",
        "    self.panel_CCL=pdr.get_data_yahoo(CCL, start=self.start_date, end=self.end_date)\n",
        "    #self.panel_CCL['FX']=self.panel_CCL.Close['GGAL.BA']*10/self.panel_CCL.Close['GGAL']\n",
        "\n",
        "    #Arma otro panda solo con los Close y lo valoriza por cantidades,agrega una col con el total en USD    \n",
        "    self.panel_stocks_wgt=self.panel_stocks.Close * sortedTupleValues\n",
        "    self.panel_stocks_wgt['Pack_USD']=self.panel_stocks_wgt.sum(axis=1)\n",
        "\n",
        "    #Agrega una columna con los datos de CCL\n",
        "    #self.panel_stocks_wgt['CCL']=self.panel_CCL.FX\n",
        "    self.panel_stocks_wgt['CCL']=self.panel_CCL.Close['GGAL.BA']*10/self.panel_CCL.Close['GGAL']\n",
        "\n",
        "    #para llenar los gaps\n",
        "    self.panel_normalized=self.panel_stocks_wgt.ffill().bfill()\n",
        "\n",
        "    #Agrega una columna con el total del pack en pesos\n",
        "    self.panel_normalized['Pack_ARS']=self.panel_normalized.Pack_USD*self.panel_normalized.CCL\n",
        "\n",
        "  #1\n",
        "  def getPackEvolution(self):\n",
        "    return self.panel_normalized\n",
        "\n",
        "  #2\n",
        "  def getPanelCCL(self):\n",
        "    return self.panel_normalized.CCL\n",
        "\n",
        "  #3\n",
        "  def getPanelStocks(self):\n",
        "    return self.panel_stocks\n",
        "\n",
        "  #4\n",
        "  def getPackPlot(self):\n",
        "    #https://www.geeksforgeeks.org/how-to-add-a-y-axis-label-to-the-secondary-y-axis-in-matplotlib/\n",
        "    \n",
        "    y1=self.panel_normalized['Pack_ARS']\n",
        "    y2=self.panel_normalized['CCL']\n",
        "    fig, ax=plt.subplots(figsize = (10, 5))\n",
        "    plt.title('Packs vs CCL')\n",
        "\n",
        "    ax.set_xlabel('Fechas', color = 'r')\n",
        "    ax2=ax.twinx()\n",
        "    ax.set_ylabel('Pack ARS', color = 'g')\n",
        "    ax2.set_ylabel('CCL', color = 'b')\n",
        "    \n",
        "    ax.plot(y1,color='g')\n",
        "    ax2.plot(y2,color='b')\n",
        "\n",
        "    plt.tight_layout()\n",
        "    plt.show()\n",
        "\n",
        "    return\n",
        "\n",
        "  #5\n",
        "  def writePanel_to_CSV(self):\n",
        "    self.panel_normalized.to_csv('pack table', index=None)\n",
        "    return\n",
        "\n",
        "  #6\n",
        "  def getCorrelationMatrix(self):\n",
        "    return self.panel_stocks.Close.corr()\n",
        "\n",
        "  def getStocksRecommendation(self):\n",
        "    #arma un dict con toda la info de las empresas\n",
        "    dict_info={}\n",
        "    for key,values in self.pack_dictionary.items():\n",
        "      try:\n",
        "        dict_info[key]=yf.Ticker(key).info\n",
        "      except:\n",
        "        exit\n",
        "\n",
        "    dict_calificaciones={}\n",
        "    for key,values in self.pack_dictionary.items():\n",
        "      try:\n",
        "        dict_calificaciones[key]=dict_info[key]['recommendationMean']\n",
        "      \n",
        "      except:\n",
        "        exit\n",
        "    return dict_calificaciones\n",
        "\n",
        "\n",
        "  def getPackCalification(self):\n",
        "    recomendWgt=0\n",
        "    dict_calific=self.getStocksRecommendation()\n",
        "\n",
        "    for key,values in self.pack_dictionary.items():\n",
        "      try:\n",
        "        recomendWgt+=self.pack_dictionary[key]* dict_calific[key]\n",
        "      except:\n",
        "        exit\n",
        "    \n",
        "    return (recomendWgt/self.totalPack)\n",
        "\n",
        "  def getTotalPack(self):\n",
        "    return self.totalPack\n",
        "\n",
        "  \n"
      ],
      "execution_count": 87,
      "outputs": []
    },
    {
      "cell_type": "code",
      "metadata": {
        "colab": {
          "base_uri": "https://localhost:8080/"
        },
        "id": "ChKk7B3TyYLP",
        "outputId": "fe242423-e251-4fec-b5be-2af92f3c95c5"
      },
      "source": [
        "Pack_5G_dict={'AAPL': 8/10,'QCOM': 8/11, 'ADI': 2/3, 'AMD': 1/0.5}\n",
        "start_date = '2021-05-07'\n",
        "#end_date = '2021-08-10'\n",
        "end_date=datetime.today().strftime('%Y-%m-%d')\n",
        "Pack_5G=cNewPack(Pack_5G_dict,start_date,end_date)"
      ],
      "execution_count": 94,
      "outputs": [
        {
          "output_type": "stream",
          "text": [
            "[*********************100%***********************]  4 of 4 completed\n",
            "[*********************100%***********************]  2 of 2 completed\n"
          ],
          "name": "stdout"
        }
      ]
    },
    {
      "cell_type": "code",
      "metadata": {
        "colab": {
          "base_uri": "https://localhost:8080/",
          "height": 447
        },
        "id": "soScI3hAIGDc",
        "outputId": "b5d56104-f21b-483a-a8df-2c5503f11392"
      },
      "source": [
        "Pack_5G.getPackEvolution()"
      ],
      "execution_count": 64,
      "outputs": [
        {
          "output_type": "execute_result",
          "data": {
            "text/html": [
              "<div>\n",
              "<style scoped>\n",
              "    .dataframe tbody tr th:only-of-type {\n",
              "        vertical-align: middle;\n",
              "    }\n",
              "\n",
              "    .dataframe tbody tr th {\n",
              "        vertical-align: top;\n",
              "    }\n",
              "\n",
              "    .dataframe thead th {\n",
              "        text-align: right;\n",
              "    }\n",
              "</style>\n",
              "<table border=\"1\" class=\"dataframe\">\n",
              "  <thead>\n",
              "    <tr style=\"text-align: right;\">\n",
              "      <th></th>\n",
              "      <th>AAPL</th>\n",
              "      <th>ADI</th>\n",
              "      <th>AMD</th>\n",
              "      <th>QCOM</th>\n",
              "      <th>SPY</th>\n",
              "      <th>Pack_USD</th>\n",
              "      <th>CCL</th>\n",
              "      <th>Pack_ARS</th>\n",
              "    </tr>\n",
              "    <tr>\n",
              "      <th>Date</th>\n",
              "      <th></th>\n",
              "      <th></th>\n",
              "      <th></th>\n",
              "      <th></th>\n",
              "      <th></th>\n",
              "      <th></th>\n",
              "      <th></th>\n",
              "      <th></th>\n",
              "    </tr>\n",
              "  </thead>\n",
              "  <tbody>\n",
              "    <tr>\n",
              "      <th>2021-05-07</th>\n",
              "      <td>104.168005</td>\n",
              "      <td>104.839996</td>\n",
              "      <td>157.619995</td>\n",
              "      <td>100.254550</td>\n",
              "      <td>0.0</td>\n",
              "      <td>466.882547</td>\n",
              "      <td>156.780734</td>\n",
              "      <td>73198.188316</td>\n",
              "    </tr>\n",
              "    <tr>\n",
              "      <th>2021-05-10</th>\n",
              "      <td>101.479999</td>\n",
              "      <td>100.526662</td>\n",
              "      <td>151.979996</td>\n",
              "      <td>93.774547</td>\n",
              "      <td>0.0</td>\n",
              "      <td>447.761204</td>\n",
              "      <td>156.863983</td>\n",
              "      <td>70237.605685</td>\n",
              "    </tr>\n",
              "    <tr>\n",
              "      <th>2021-05-11</th>\n",
              "      <td>100.728003</td>\n",
              "      <td>100.559998</td>\n",
              "      <td>153.660004</td>\n",
              "      <td>93.359996</td>\n",
              "      <td>0.0</td>\n",
              "      <td>448.308001</td>\n",
              "      <td>156.369429</td>\n",
              "      <td>70101.665914</td>\n",
              "    </tr>\n",
              "    <tr>\n",
              "      <th>2021-05-12</th>\n",
              "      <td>98.215997</td>\n",
              "      <td>97.366669</td>\n",
              "      <td>149.279999</td>\n",
              "      <td>90.632729</td>\n",
              "      <td>0.0</td>\n",
              "      <td>435.495394</td>\n",
              "      <td>156.241873</td>\n",
              "      <td>68042.616219</td>\n",
              "    </tr>\n",
              "    <tr>\n",
              "      <th>2021-05-13</th>\n",
              "      <td>99.976001</td>\n",
              "      <td>97.753337</td>\n",
              "      <td>146.179993</td>\n",
              "      <td>92.443637</td>\n",
              "      <td>0.0</td>\n",
              "      <td>436.352967</td>\n",
              "      <td>157.537690</td>\n",
              "      <td>68742.038281</td>\n",
              "    </tr>\n",
              "    <tr>\n",
              "      <th>...</th>\n",
              "      <td>...</td>\n",
              "      <td>...</td>\n",
              "      <td>...</td>\n",
              "      <td>...</td>\n",
              "      <td>...</td>\n",
              "      <td>...</td>\n",
              "      <td>...</td>\n",
              "      <td>...</td>\n",
              "    </tr>\n",
              "    <tr>\n",
              "      <th>2021-08-03</th>\n",
              "      <td>117.888000</td>\n",
              "      <td>112.453328</td>\n",
              "      <td>225.119995</td>\n",
              "      <td>107.599998</td>\n",
              "      <td>0.0</td>\n",
              "      <td>563.061322</td>\n",
              "      <td>181.546132</td>\n",
              "      <td>102221.605008</td>\n",
              "    </tr>\n",
              "    <tr>\n",
              "      <th>2021-08-04</th>\n",
              "      <td>117.559998</td>\n",
              "      <td>115.053335</td>\n",
              "      <td>237.539993</td>\n",
              "      <td>107.796365</td>\n",
              "      <td>0.0</td>\n",
              "      <td>577.949690</td>\n",
              "      <td>180.339199</td>\n",
              "      <td>104226.984114</td>\n",
              "    </tr>\n",
              "    <tr>\n",
              "      <th>2021-08-05</th>\n",
              "      <td>117.647998</td>\n",
              "      <td>113.286662</td>\n",
              "      <td>224.699997</td>\n",
              "      <td>106.785456</td>\n",
              "      <td>0.0</td>\n",
              "      <td>562.420113</td>\n",
              "      <td>179.938263</td>\n",
              "      <td>101200.898221</td>\n",
              "    </tr>\n",
              "    <tr>\n",
              "      <th>2021-08-06</th>\n",
              "      <td>116.912000</td>\n",
              "      <td>114.086670</td>\n",
              "      <td>220.220001</td>\n",
              "      <td>106.385454</td>\n",
              "      <td>0.0</td>\n",
              "      <td>557.604124</td>\n",
              "      <td>177.101088</td>\n",
              "      <td>98752.297071</td>\n",
              "    </tr>\n",
              "    <tr>\n",
              "      <th>2021-08-09</th>\n",
              "      <td>116.871997</td>\n",
              "      <td>114.206665</td>\n",
              "      <td>215.160004</td>\n",
              "      <td>106.850908</td>\n",
              "      <td>0.0</td>\n",
              "      <td>553.089574</td>\n",
              "      <td>176.219516</td>\n",
              "      <td>97465.177115</td>\n",
              "    </tr>\n",
              "  </tbody>\n",
              "</table>\n",
              "<p>65 rows × 8 columns</p>\n",
              "</div>"
            ],
            "text/plain": [
              "                  AAPL         ADI  ...         CCL       Pack_ARS\n",
              "Date                                ...                           \n",
              "2021-05-07  104.168005  104.839996  ...  156.780734   73198.188316\n",
              "2021-05-10  101.479999  100.526662  ...  156.863983   70237.605685\n",
              "2021-05-11  100.728003  100.559998  ...  156.369429   70101.665914\n",
              "2021-05-12   98.215997   97.366669  ...  156.241873   68042.616219\n",
              "2021-05-13   99.976001   97.753337  ...  157.537690   68742.038281\n",
              "...                ...         ...  ...         ...            ...\n",
              "2021-08-03  117.888000  112.453328  ...  181.546132  102221.605008\n",
              "2021-08-04  117.559998  115.053335  ...  180.339199  104226.984114\n",
              "2021-08-05  117.647998  113.286662  ...  179.938263  101200.898221\n",
              "2021-08-06  116.912000  114.086670  ...  177.101088   98752.297071\n",
              "2021-08-09  116.871997  114.206665  ...  176.219516   97465.177115\n",
              "\n",
              "[65 rows x 8 columns]"
            ]
          },
          "metadata": {
            "tags": []
          },
          "execution_count": 64
        }
      ]
    },
    {
      "cell_type": "code",
      "metadata": {
        "id": "WsX9_84aJMeX",
        "colab": {
          "base_uri": "https://localhost:8080/"
        },
        "outputId": "a3e5f0ad-81f8-487a-b242-34168c64c2c8"
      },
      "source": [
        "Pack_5G.getPanelCCL()"
      ],
      "execution_count": 65,
      "outputs": [
        {
          "output_type": "execute_result",
          "data": {
            "text/plain": [
              "Date\n",
              "2021-05-07    156.780734\n",
              "2021-05-10    156.863983\n",
              "2021-05-11    156.369429\n",
              "2021-05-12    156.241873\n",
              "2021-05-13    157.537690\n",
              "                 ...    \n",
              "2021-08-03    181.546132\n",
              "2021-08-04    180.339199\n",
              "2021-08-05    179.938263\n",
              "2021-08-06    177.101088\n",
              "2021-08-09    176.219516\n",
              "Name: CCL, Length: 65, dtype: float64"
            ]
          },
          "metadata": {
            "tags": []
          },
          "execution_count": 65
        }
      ]
    },
    {
      "cell_type": "code",
      "metadata": {
        "colab": {
          "base_uri": "https://localhost:8080/",
          "height": 666
        },
        "id": "BVoHjdqX28Ke",
        "outputId": "58a4e40e-1286-4c84-fdeb-20c33fd93b32"
      },
      "source": [
        "Pack_5G.getPanelStocks()"
      ],
      "execution_count": 66,
      "outputs": [
        {
          "output_type": "execute_result",
          "data": {
            "text/html": [
              "<div>\n",
              "<style scoped>\n",
              "    .dataframe tbody tr th:only-of-type {\n",
              "        vertical-align: middle;\n",
              "    }\n",
              "\n",
              "    .dataframe tbody tr th {\n",
              "        vertical-align: top;\n",
              "    }\n",
              "\n",
              "    .dataframe thead tr th {\n",
              "        text-align: left;\n",
              "    }\n",
              "\n",
              "    .dataframe thead tr:last-of-type th {\n",
              "        text-align: right;\n",
              "    }\n",
              "</style>\n",
              "<table border=\"1\" class=\"dataframe\">\n",
              "  <thead>\n",
              "    <tr>\n",
              "      <th></th>\n",
              "      <th colspan=\"5\" halign=\"left\">Adj Close</th>\n",
              "      <th colspan=\"5\" halign=\"left\">Close</th>\n",
              "      <th colspan=\"5\" halign=\"left\">High</th>\n",
              "      <th colspan=\"5\" halign=\"left\">Low</th>\n",
              "      <th colspan=\"5\" halign=\"left\">Open</th>\n",
              "      <th colspan=\"5\" halign=\"left\">Volume</th>\n",
              "    </tr>\n",
              "    <tr>\n",
              "      <th></th>\n",
              "      <th>AAPL</th>\n",
              "      <th>ADI</th>\n",
              "      <th>AMD</th>\n",
              "      <th>QCOM</th>\n",
              "      <th>SPY</th>\n",
              "      <th>AAPL</th>\n",
              "      <th>ADI</th>\n",
              "      <th>AMD</th>\n",
              "      <th>QCOM</th>\n",
              "      <th>SPY</th>\n",
              "      <th>AAPL</th>\n",
              "      <th>ADI</th>\n",
              "      <th>AMD</th>\n",
              "      <th>QCOM</th>\n",
              "      <th>SPY</th>\n",
              "      <th>AAPL</th>\n",
              "      <th>ADI</th>\n",
              "      <th>AMD</th>\n",
              "      <th>QCOM</th>\n",
              "      <th>SPY</th>\n",
              "      <th>AAPL</th>\n",
              "      <th>ADI</th>\n",
              "      <th>AMD</th>\n",
              "      <th>QCOM</th>\n",
              "      <th>SPY</th>\n",
              "      <th>AAPL</th>\n",
              "      <th>ADI</th>\n",
              "      <th>AMD</th>\n",
              "      <th>QCOM</th>\n",
              "      <th>SPY</th>\n",
              "    </tr>\n",
              "    <tr>\n",
              "      <th>Date</th>\n",
              "      <th></th>\n",
              "      <th></th>\n",
              "      <th></th>\n",
              "      <th></th>\n",
              "      <th></th>\n",
              "      <th></th>\n",
              "      <th></th>\n",
              "      <th></th>\n",
              "      <th></th>\n",
              "      <th></th>\n",
              "      <th></th>\n",
              "      <th></th>\n",
              "      <th></th>\n",
              "      <th></th>\n",
              "      <th></th>\n",
              "      <th></th>\n",
              "      <th></th>\n",
              "      <th></th>\n",
              "      <th></th>\n",
              "      <th></th>\n",
              "      <th></th>\n",
              "      <th></th>\n",
              "      <th></th>\n",
              "      <th></th>\n",
              "      <th></th>\n",
              "      <th></th>\n",
              "      <th></th>\n",
              "      <th></th>\n",
              "      <th></th>\n",
              "      <th></th>\n",
              "    </tr>\n",
              "  </thead>\n",
              "  <tbody>\n",
              "    <tr>\n",
              "      <th>2021-05-07</th>\n",
              "      <td>130.015213</td>\n",
              "      <td>156.597870</td>\n",
              "      <td>78.809998</td>\n",
              "      <td>137.150162</td>\n",
              "      <td>420.743500</td>\n",
              "      <td>130.210007</td>\n",
              "      <td>157.259995</td>\n",
              "      <td>78.809998</td>\n",
              "      <td>137.850006</td>\n",
              "      <td>422.119995</td>\n",
              "      <td>131.259995</td>\n",
              "      <td>158.350006</td>\n",
              "      <td>79.570000</td>\n",
              "      <td>138.690002</td>\n",
              "      <td>422.820007</td>\n",
              "      <td>129.479996</td>\n",
              "      <td>156.020004</td>\n",
              "      <td>78.220001</td>\n",
              "      <td>136.289993</td>\n",
              "      <td>419.160004</td>\n",
              "      <td>130.850006</td>\n",
              "      <td>156.669998</td>\n",
              "      <td>78.750000</td>\n",
              "      <td>136.940002</td>\n",
              "      <td>419.890015</td>\n",
              "      <td>78973300</td>\n",
              "      <td>2706500</td>\n",
              "      <td>36954200</td>\n",
              "      <td>6893700</td>\n",
              "      <td>67733800</td>\n",
              "    </tr>\n",
              "    <tr>\n",
              "      <th>2021-05-10</th>\n",
              "      <td>126.660225</td>\n",
              "      <td>150.155106</td>\n",
              "      <td>75.989998</td>\n",
              "      <td>128.285385</td>\n",
              "      <td>416.577148</td>\n",
              "      <td>126.849998</td>\n",
              "      <td>150.789993</td>\n",
              "      <td>75.989998</td>\n",
              "      <td>128.940002</td>\n",
              "      <td>417.940002</td>\n",
              "      <td>129.539993</td>\n",
              "      <td>157.169998</td>\n",
              "      <td>78.300003</td>\n",
              "      <td>136.679993</td>\n",
              "      <td>422.739990</td>\n",
              "      <td>126.809998</td>\n",
              "      <td>150.759995</td>\n",
              "      <td>75.919998</td>\n",
              "      <td>128.820007</td>\n",
              "      <td>417.809998</td>\n",
              "      <td>129.410004</td>\n",
              "      <td>156.830002</td>\n",
              "      <td>78.199997</td>\n",
              "      <td>136.020004</td>\n",
              "      <td>422.500000</td>\n",
              "      <td>88071200</td>\n",
              "      <td>4132300</td>\n",
              "      <td>45134500</td>\n",
              "      <td>19537200</td>\n",
              "      <td>81852400</td>\n",
              "    </tr>\n",
              "    <tr>\n",
              "      <th>2021-05-11</th>\n",
              "      <td>125.721642</td>\n",
              "      <td>150.204895</td>\n",
              "      <td>76.830002</td>\n",
              "      <td>127.718277</td>\n",
              "      <td>412.859283</td>\n",
              "      <td>125.910004</td>\n",
              "      <td>150.839996</td>\n",
              "      <td>76.830002</td>\n",
              "      <td>128.369995</td>\n",
              "      <td>414.209991</td>\n",
              "      <td>126.269997</td>\n",
              "      <td>152.089996</td>\n",
              "      <td>76.930000</td>\n",
              "      <td>128.559998</td>\n",
              "      <td>415.269989</td>\n",
              "      <td>122.769997</td>\n",
              "      <td>147.850006</td>\n",
              "      <td>72.750000</td>\n",
              "      <td>124.769997</td>\n",
              "      <td>410.059998</td>\n",
              "      <td>123.500000</td>\n",
              "      <td>148.339996</td>\n",
              "      <td>73.570000</td>\n",
              "      <td>125.250000</td>\n",
              "      <td>413.100006</td>\n",
              "      <td>126142800</td>\n",
              "      <td>4643100</td>\n",
              "      <td>51008200</td>\n",
              "      <td>11948000</td>\n",
              "      <td>116888000</td>\n",
              "    </tr>\n",
              "    <tr>\n",
              "      <th>2021-05-12</th>\n",
              "      <td>122.586334</td>\n",
              "      <td>145.435074</td>\n",
              "      <td>74.639999</td>\n",
              "      <td>123.987320</td>\n",
              "      <td>404.088013</td>\n",
              "      <td>122.769997</td>\n",
              "      <td>146.050003</td>\n",
              "      <td>74.639999</td>\n",
              "      <td>124.620003</td>\n",
              "      <td>405.410004</td>\n",
              "      <td>124.639999</td>\n",
              "      <td>149.009995</td>\n",
              "      <td>76.129997</td>\n",
              "      <td>127.129997</td>\n",
              "      <td>412.589996</td>\n",
              "      <td>122.250000</td>\n",
              "      <td>145.649994</td>\n",
              "      <td>74.160004</td>\n",
              "      <td>123.680000</td>\n",
              "      <td>404.000000</td>\n",
              "      <td>123.400002</td>\n",
              "      <td>147.399994</td>\n",
              "      <td>75.089996</td>\n",
              "      <td>126.029999</td>\n",
              "      <td>411.230011</td>\n",
              "      <td>112172300</td>\n",
              "      <td>4733000</td>\n",
              "      <td>42531400</td>\n",
              "      <td>13529600</td>\n",
              "      <td>134811000</td>\n",
              "    </tr>\n",
              "    <tr>\n",
              "      <th>2021-05-13</th>\n",
              "      <td>124.783043</td>\n",
              "      <td>146.012634</td>\n",
              "      <td>73.089996</td>\n",
              "      <td>126.464676</td>\n",
              "      <td>408.942108</td>\n",
              "      <td>124.970001</td>\n",
              "      <td>146.630005</td>\n",
              "      <td>73.089996</td>\n",
              "      <td>127.110001</td>\n",
              "      <td>410.279999</td>\n",
              "      <td>126.150002</td>\n",
              "      <td>149.330002</td>\n",
              "      <td>75.699997</td>\n",
              "      <td>128.479996</td>\n",
              "      <td>412.350006</td>\n",
              "      <td>124.260002</td>\n",
              "      <td>145.619995</td>\n",
              "      <td>72.500000</td>\n",
              "      <td>125.870003</td>\n",
              "      <td>407.019989</td>\n",
              "      <td>124.580002</td>\n",
              "      <td>147.610001</td>\n",
              "      <td>75.209999</td>\n",
              "      <td>127.120003</td>\n",
              "      <td>407.070007</td>\n",
              "      <td>105861300</td>\n",
              "      <td>4053200</td>\n",
              "      <td>48646800</td>\n",
              "      <td>10633000</td>\n",
              "      <td>106394000</td>\n",
              "    </tr>\n",
              "    <tr>\n",
              "      <th>...</th>\n",
              "      <td>...</td>\n",
              "      <td>...</td>\n",
              "      <td>...</td>\n",
              "      <td>...</td>\n",
              "      <td>...</td>\n",
              "      <td>...</td>\n",
              "      <td>...</td>\n",
              "      <td>...</td>\n",
              "      <td>...</td>\n",
              "      <td>...</td>\n",
              "      <td>...</td>\n",
              "      <td>...</td>\n",
              "      <td>...</td>\n",
              "      <td>...</td>\n",
              "      <td>...</td>\n",
              "      <td>...</td>\n",
              "      <td>...</td>\n",
              "      <td>...</td>\n",
              "      <td>...</td>\n",
              "      <td>...</td>\n",
              "      <td>...</td>\n",
              "      <td>...</td>\n",
              "      <td>...</td>\n",
              "      <td>...</td>\n",
              "      <td>...</td>\n",
              "      <td>...</td>\n",
              "      <td>...</td>\n",
              "      <td>...</td>\n",
              "      <td>...</td>\n",
              "      <td>...</td>\n",
              "    </tr>\n",
              "    <tr>\n",
              "      <th>2021-08-03</th>\n",
              "      <td>147.139542</td>\n",
              "      <td>168.679993</td>\n",
              "      <td>112.559998</td>\n",
              "      <td>147.949997</td>\n",
              "      <td>441.149994</td>\n",
              "      <td>147.360001</td>\n",
              "      <td>168.679993</td>\n",
              "      <td>112.559998</td>\n",
              "      <td>147.949997</td>\n",
              "      <td>441.149994</td>\n",
              "      <td>148.039993</td>\n",
              "      <td>169.020004</td>\n",
              "      <td>114.849998</td>\n",
              "      <td>149.580002</td>\n",
              "      <td>441.279999</td>\n",
              "      <td>145.179993</td>\n",
              "      <td>165.589996</td>\n",
              "      <td>107.660004</td>\n",
              "      <td>146.559998</td>\n",
              "      <td>436.100006</td>\n",
              "      <td>145.809998</td>\n",
              "      <td>168.369995</td>\n",
              "      <td>108.150002</td>\n",
              "      <td>148.910004</td>\n",
              "      <td>438.440002</td>\n",
              "      <td>64786600</td>\n",
              "      <td>3271200</td>\n",
              "      <td>157723100</td>\n",
              "      <td>6223400</td>\n",
              "      <td>58053900</td>\n",
              "    </tr>\n",
              "    <tr>\n",
              "      <th>2021-08-04</th>\n",
              "      <td>146.730164</td>\n",
              "      <td>172.580002</td>\n",
              "      <td>118.769997</td>\n",
              "      <td>148.220001</td>\n",
              "      <td>438.980011</td>\n",
              "      <td>146.949997</td>\n",
              "      <td>172.580002</td>\n",
              "      <td>118.769997</td>\n",
              "      <td>148.220001</td>\n",
              "      <td>438.980011</td>\n",
              "      <td>147.789993</td>\n",
              "      <td>175.250000</td>\n",
              "      <td>122.489998</td>\n",
              "      <td>149.199997</td>\n",
              "      <td>441.119995</td>\n",
              "      <td>146.279999</td>\n",
              "      <td>168.600006</td>\n",
              "      <td>114.160004</td>\n",
              "      <td>147.330002</td>\n",
              "      <td>438.730011</td>\n",
              "      <td>147.270004</td>\n",
              "      <td>168.740005</td>\n",
              "      <td>114.360001</td>\n",
              "      <td>148.020004</td>\n",
              "      <td>439.779999</td>\n",
              "      <td>56368300</td>\n",
              "      <td>10201100</td>\n",
              "      <td>225368700</td>\n",
              "      <td>5556400</td>\n",
              "      <td>46732200</td>\n",
              "    </tr>\n",
              "    <tr>\n",
              "      <th>2021-08-05</th>\n",
              "      <td>146.839996</td>\n",
              "      <td>169.929993</td>\n",
              "      <td>112.349998</td>\n",
              "      <td>146.830002</td>\n",
              "      <td>441.760010</td>\n",
              "      <td>147.059998</td>\n",
              "      <td>169.929993</td>\n",
              "      <td>112.349998</td>\n",
              "      <td>146.830002</td>\n",
              "      <td>441.760010</td>\n",
              "      <td>147.839996</td>\n",
              "      <td>173.770004</td>\n",
              "      <td>117.680000</td>\n",
              "      <td>147.470001</td>\n",
              "      <td>441.850006</td>\n",
              "      <td>146.169998</td>\n",
              "      <td>168.830002</td>\n",
              "      <td>111.589996</td>\n",
              "      <td>144.570007</td>\n",
              "      <td>439.880005</td>\n",
              "      <td>146.979996</td>\n",
              "      <td>173.559998</td>\n",
              "      <td>116.629997</td>\n",
              "      <td>147.240005</td>\n",
              "      <td>440.220001</td>\n",
              "      <td>46397700</td>\n",
              "      <td>3468300</td>\n",
              "      <td>137860900</td>\n",
              "      <td>7169200</td>\n",
              "      <td>38969700</td>\n",
              "    </tr>\n",
              "    <tr>\n",
              "      <th>2021-08-06</th>\n",
              "      <td>146.139999</td>\n",
              "      <td>171.130005</td>\n",
              "      <td>110.110001</td>\n",
              "      <td>146.279999</td>\n",
              "      <td>442.489990</td>\n",
              "      <td>146.139999</td>\n",
              "      <td>171.130005</td>\n",
              "      <td>110.110001</td>\n",
              "      <td>146.279999</td>\n",
              "      <td>442.489990</td>\n",
              "      <td>147.110001</td>\n",
              "      <td>171.889999</td>\n",
              "      <td>116.260002</td>\n",
              "      <td>148.229996</td>\n",
              "      <td>442.940002</td>\n",
              "      <td>145.630005</td>\n",
              "      <td>168.369995</td>\n",
              "      <td>109.699997</td>\n",
              "      <td>145.919998</td>\n",
              "      <td>441.799988</td>\n",
              "      <td>146.350006</td>\n",
              "      <td>168.830002</td>\n",
              "      <td>110.550003</td>\n",
              "      <td>146.130005</td>\n",
              "      <td>442.100006</td>\n",
              "      <td>54067400</td>\n",
              "      <td>3164200</td>\n",
              "      <td>143792800</td>\n",
              "      <td>5732300</td>\n",
              "      <td>46864100</td>\n",
              "    </tr>\n",
              "    <tr>\n",
              "      <th>2021-08-09</th>\n",
              "      <td>146.089996</td>\n",
              "      <td>171.309998</td>\n",
              "      <td>107.580002</td>\n",
              "      <td>146.919998</td>\n",
              "      <td>442.130005</td>\n",
              "      <td>146.089996</td>\n",
              "      <td>171.309998</td>\n",
              "      <td>107.580002</td>\n",
              "      <td>146.919998</td>\n",
              "      <td>442.130005</td>\n",
              "      <td>146.699997</td>\n",
              "      <td>172.529999</td>\n",
              "      <td>112.330002</td>\n",
              "      <td>147.720001</td>\n",
              "      <td>442.799988</td>\n",
              "      <td>145.520004</td>\n",
              "      <td>169.389999</td>\n",
              "      <td>107.059998</td>\n",
              "      <td>145.750000</td>\n",
              "      <td>441.309998</td>\n",
              "      <td>146.199997</td>\n",
              "      <td>171.059998</td>\n",
              "      <td>111.309998</td>\n",
              "      <td>146.789993</td>\n",
              "      <td>442.459991</td>\n",
              "      <td>48908700</td>\n",
              "      <td>2580800</td>\n",
              "      <td>115749900</td>\n",
              "      <td>4966600</td>\n",
              "      <td>41222600</td>\n",
              "    </tr>\n",
              "  </tbody>\n",
              "</table>\n",
              "<p>65 rows × 30 columns</p>\n",
              "</div>"
            ],
            "text/plain": [
              "             Adj Close                          ...     Volume                     \n",
              "                  AAPL         ADI         AMD  ...        AMD      QCOM        SPY\n",
              "Date                                            ...                                \n",
              "2021-05-07  130.015213  156.597870   78.809998  ...   36954200   6893700   67733800\n",
              "2021-05-10  126.660225  150.155106   75.989998  ...   45134500  19537200   81852400\n",
              "2021-05-11  125.721642  150.204895   76.830002  ...   51008200  11948000  116888000\n",
              "2021-05-12  122.586334  145.435074   74.639999  ...   42531400  13529600  134811000\n",
              "2021-05-13  124.783043  146.012634   73.089996  ...   48646800  10633000  106394000\n",
              "...                ...         ...         ...  ...        ...       ...        ...\n",
              "2021-08-03  147.139542  168.679993  112.559998  ...  157723100   6223400   58053900\n",
              "2021-08-04  146.730164  172.580002  118.769997  ...  225368700   5556400   46732200\n",
              "2021-08-05  146.839996  169.929993  112.349998  ...  137860900   7169200   38969700\n",
              "2021-08-06  146.139999  171.130005  110.110001  ...  143792800   5732300   46864100\n",
              "2021-08-09  146.089996  171.309998  107.580002  ...  115749900   4966600   41222600\n",
              "\n",
              "[65 rows x 30 columns]"
            ]
          },
          "metadata": {
            "tags": []
          },
          "execution_count": 66
        }
      ]
    },
    {
      "cell_type": "code",
      "metadata": {
        "colab": {
          "base_uri": "https://localhost:8080/",
          "height": 369
        },
        "id": "xHL64J_eZYIH",
        "outputId": "daf7c3cb-0581-41c4-b352-2fcd06fe7d72"
      },
      "source": [
        "Pack_5G.getPackPlot()"
      ],
      "execution_count": 67,
      "outputs": [
        {
          "output_type": "display_data",
          "data": {
            "image/png": "[encoded data removed]",
            "text/plain": [
              "<Figure size 720x360 with 2 Axes>"
            ]
          },
          "metadata": {
            "tags": [],
            "needs_background": "light"
          }
        }
      ]
    },
    {
      "cell_type": "code",
      "metadata": {
        "id": "V7eFdudwyn0J"
      },
      "source": [
        "Pack_5G.writePanel_to_CSV()"
      ],
      "execution_count": 68,
      "outputs": []
    },
    {
      "cell_type": "code",
      "metadata": {
        "id": "ijt0zTfW4ZBM",
        "colab": {
          "base_uri": "https://localhost:8080/",
          "height": 172
        },
        "outputId": "d8f82f7d-23e8-4fb6-9ac4-0520b3ff2364"
      },
      "source": [
        "Pack_5G.getCorrelationMatrix()"
      ],
      "execution_count": 95,
      "outputs": [
        {
          "output_type": "execute_result",
          "data": {
            "text/html": [
              "<div>\n",
              "<style scoped>\n",
              "    .dataframe tbody tr th:only-of-type {\n",
              "        vertical-align: middle;\n",
              "    }\n",
              "\n",
              "    .dataframe tbody tr th {\n",
              "        vertical-align: top;\n",
              "    }\n",
              "\n",
              "    .dataframe thead th {\n",
              "        text-align: right;\n",
              "    }\n",
              "</style>\n",
              "<table border=\"1\" class=\"dataframe\">\n",
              "  <thead>\n",
              "    <tr style=\"text-align: right;\">\n",
              "      <th></th>\n",
              "      <th>AAPL</th>\n",
              "      <th>ADI</th>\n",
              "      <th>AMD</th>\n",
              "      <th>QCOM</th>\n",
              "    </tr>\n",
              "  </thead>\n",
              "  <tbody>\n",
              "    <tr>\n",
              "      <th>AAPL</th>\n",
              "      <td>1.000000</td>\n",
              "      <td>0.471617</td>\n",
              "      <td>0.795969</td>\n",
              "      <td>0.884483</td>\n",
              "    </tr>\n",
              "    <tr>\n",
              "      <th>ADI</th>\n",
              "      <td>0.471617</td>\n",
              "      <td>1.000000</td>\n",
              "      <td>0.645411</td>\n",
              "      <td>0.710675</td>\n",
              "    </tr>\n",
              "    <tr>\n",
              "      <th>AMD</th>\n",
              "      <td>0.795969</td>\n",
              "      <td>0.645411</td>\n",
              "      <td>1.000000</td>\n",
              "      <td>0.913905</td>\n",
              "    </tr>\n",
              "    <tr>\n",
              "      <th>QCOM</th>\n",
              "      <td>0.884483</td>\n",
              "      <td>0.710675</td>\n",
              "      <td>0.913905</td>\n",
              "      <td>1.000000</td>\n",
              "    </tr>\n",
              "  </tbody>\n",
              "</table>\n",
              "</div>"
            ],
            "text/plain": [
              "          AAPL       ADI       AMD      QCOM\n",
              "AAPL  1.000000  0.471617  0.795969  0.884483\n",
              "ADI   0.471617  1.000000  0.645411  0.710675\n",
              "AMD   0.795969  0.645411  1.000000  0.913905\n",
              "QCOM  0.884483  0.710675  0.913905  1.000000"
            ]
          },
          "metadata": {
            "tags": []
          },
          "execution_count": 95
        }
      ]
    },
    {
      "cell_type": "code",
      "metadata": {
        "id": "C-AT0okDz6SZ"
      },
      "source": [
        "Pack_5G.getPanelCCL()"
      ],
      "execution_count": null,
      "outputs": []
    },
    {
      "cell_type": "code",
      "metadata": {
        "id": "AjJwkGLC0iOd"
      },
      "source": [
        "Pack_5G.getPanelStocks()"
      ],
      "execution_count": null,
      "outputs": []
    },
    {
      "cell_type": "code",
      "metadata": {
        "id": "B1Kc8CDl1zZ6"
      },
      "source": [
        "Pack_5G.getPackPlot()"
      ],
      "execution_count": null,
      "outputs": []
    },
    {
      "cell_type": "code",
      "metadata": {
        "id": "LTT6E5km2XtL",
        "colab": {
          "base_uri": "https://localhost:8080/",
          "height": 203
        },
        "outputId": "0321670e-f3b4-471d-aa48-52ff6cf535af"
      },
      "source": [
        "Pack_5G.getCorrelationMatrix()"
      ],
      "execution_count": 26,
      "outputs": [
        {
          "output_type": "execute_result",
          "data": {
            "text/html": [
              "<div>\n",
              "<style scoped>\n",
              "    .dataframe tbody tr th:only-of-type {\n",
              "        vertical-align: middle;\n",
              "    }\n",
              "\n",
              "    .dataframe tbody tr th {\n",
              "        vertical-align: top;\n",
              "    }\n",
              "\n",
              "    .dataframe thead th {\n",
              "        text-align: right;\n",
              "    }\n",
              "</style>\n",
              "<table border=\"1\" class=\"dataframe\">\n",
              "  <thead>\n",
              "    <tr style=\"text-align: right;\">\n",
              "      <th></th>\n",
              "      <th>AAPL</th>\n",
              "      <th>ADI</th>\n",
              "      <th>AMD</th>\n",
              "      <th>QCOM</th>\n",
              "      <th>SPY</th>\n",
              "    </tr>\n",
              "  </thead>\n",
              "  <tbody>\n",
              "    <tr>\n",
              "      <th>AAPL</th>\n",
              "      <td>1.000000</td>\n",
              "      <td>0.461108</td>\n",
              "      <td>0.792664</td>\n",
              "      <td>0.882171</td>\n",
              "      <td>0.924201</td>\n",
              "    </tr>\n",
              "    <tr>\n",
              "      <th>ADI</th>\n",
              "      <td>0.461108</td>\n",
              "      <td>1.000000</td>\n",
              "      <td>0.635945</td>\n",
              "      <td>0.703924</td>\n",
              "      <td>0.664643</td>\n",
              "    </tr>\n",
              "    <tr>\n",
              "      <th>AMD</th>\n",
              "      <td>0.792664</td>\n",
              "      <td>0.635945</td>\n",
              "      <td>1.000000</td>\n",
              "      <td>0.912365</td>\n",
              "      <td>0.863950</td>\n",
              "    </tr>\n",
              "    <tr>\n",
              "      <th>QCOM</th>\n",
              "      <td>0.882171</td>\n",
              "      <td>0.703924</td>\n",
              "      <td>0.912365</td>\n",
              "      <td>1.000000</td>\n",
              "      <td>0.946136</td>\n",
              "    </tr>\n",
              "    <tr>\n",
              "      <th>SPY</th>\n",
              "      <td>0.924201</td>\n",
              "      <td>0.664643</td>\n",
              "      <td>0.863950</td>\n",
              "      <td>0.946136</td>\n",
              "      <td>1.000000</td>\n",
              "    </tr>\n",
              "  </tbody>\n",
              "</table>\n",
              "</div>"
            ],
            "text/plain": [
              "          AAPL       ADI       AMD      QCOM       SPY\n",
              "AAPL  1.000000  0.461108  0.792664  0.882171  0.924201\n",
              "ADI   0.461108  1.000000  0.635945  0.703924  0.664643\n",
              "AMD   0.792664  0.635945  1.000000  0.912365  0.863950\n",
              "QCOM  0.882171  0.703924  0.912365  1.000000  0.946136\n",
              "SPY   0.924201  0.664643  0.863950  0.946136  1.000000"
            ]
          },
          "metadata": {
            "tags": []
          },
          "execution_count": 26
        }
      ]
    },
    {
      "cell_type": "code",
      "metadata": {
        "colab": {
          "base_uri": "https://localhost:8080/"
        },
        "id": "YHf63g9AbCwp",
        "outputId": "5e77f634-af54-403f-aa07-5859e717650b"
      },
      "source": [
        "%time Pack_5G.getStocksRecommendation()"
      ],
      "execution_count": 96,
      "outputs": [
        {
          "output_type": "stream",
          "text": [
            "CPU times: user 1.01 s, sys: 32.7 ms, total: 1.04 s\n",
            "Wall time: 8.28 s\n"
          ],
          "name": "stdout"
        },
        {
          "output_type": "execute_result",
          "data": {
            "text/plain": [
              "{'AAPL': 2, 'ADI': 1.7, 'AMD': 2.3, 'QCOM': 2}"
            ]
          },
          "metadata": {
            "tags": []
          },
          "execution_count": 96
        }
      ]
    },
    {
      "cell_type": "code",
      "metadata": {
        "colab": {
          "base_uri": "https://localhost:8080/"
        },
        "id": "ldbFSvSwfQ52",
        "outputId": "c792b12e-c493-4950-92d8-48f2cca36b7c"
      },
      "source": [
        "%time Pack_5G.getPackCalification()"
      ],
      "execution_count": 98,
      "outputs": [
        {
          "output_type": "stream",
          "text": [
            "CPU times: user 1.12 s, sys: 37.8 ms, total: 1.16 s\n",
            "Wall time: 15.5 s\n"
          ],
          "name": "stdout"
        },
        {
          "output_type": "execute_result",
          "data": {
            "text/plain": [
              "2.095375722543353"
            ]
          },
          "metadata": {
            "tags": []
          },
          "execution_count": 98
        }
      ]
    },
    {
      "cell_type": "code",
      "metadata": {
        "id": "LRdO3bNcLIqB",
        "colab": {
          "base_uri": "https://localhost:8080/"
        },
        "outputId": "4e2edbd9-0036-40fe-b62f-189a4fa46088"
      },
      "source": [
        "Pack_IAv1={'NVDA': 12/24,'FB': 2/8, 'GOOGL': 2/58, 'AMZN': 3/144}\n",
        "start_date = '2021-05-14'\n",
        "datetime.today().strftime('%Y-%m-%d')\n",
        "Pack_IAv1=cNewPack(Pack_IAv1,start_date,end_date)"
      ],
      "execution_count": 37,
      "outputs": [
        {
          "output_type": "stream",
          "text": [
            "[*********************100%***********************]  4 of 4 completed\n",
            "[*********************100%***********************]  2 of 2 completed\n"
          ],
          "name": "stdout"
        }
      ]
    },
    {
      "cell_type": "code",
      "metadata": {
        "id": "VFKi4GbyMqyX"
      },
      "source": [
        "Pack_IAv1.getPackEvolution()"
      ],
      "execution_count": null,
      "outputs": []
    },
    {
      "cell_type": "code",
      "metadata": {
        "id": "8KvvcOgqRMx_",
        "colab": {
          "base_uri": "https://localhost:8080/",
          "height": 369
        },
        "outputId": "53fb0405-9d17-4d45-b475-2ccb03cdc37b"
      },
      "source": [
        "Pack_IAv1.getPackPlot()"
      ],
      "execution_count": 28,
      "outputs": [
        {
          "output_type": "display_data",
          "data": {
            "image/png": "[encoded data removed]",
            "text/plain": [
              "<Figure size 720x360 with 2 Axes>"
            ]
          },
          "metadata": {
            "tags": [],
            "needs_background": "light"
          }
        }
      ]
    },
    {
      "cell_type": "code",
      "metadata": {
        "id": "l_hNyda8RVj7",
        "colab": {
          "base_uri": "https://localhost:8080/"
        },
        "outputId": "d1874b32-f612-4116-b8d9-2798f8a062f5"
      },
      "source": [
        "Pack_IAv1.getTotalPack()"
      ],
      "execution_count": 39,
      "outputs": [
        {
          "output_type": "execute_result",
          "data": {
            "text/plain": [
              "0.805316091954023"
            ]
          },
          "metadata": {
            "tags": []
          },
          "execution_count": 39
        }
      ]
    },
    {
      "cell_type": "code",
      "metadata": {
        "colab": {
          "base_uri": "https://localhost:8080/"
        },
        "id": "GsPPE9ZmDVYw",
        "outputId": "f4de6339-7b91-4536-ce05-919311b1b76c"
      },
      "source": [
        "print(yf.Ticker('NVDA').info['recommendationMean'])\n",
        "print(yf.Ticker('FB').info['recommendationMean'])\n",
        "print(yf.Ticker('GOOGL').info['recommendationMean'])\n",
        "print(yf.Ticker('AMZN').info['recommendationMean'])"
      ],
      "execution_count": 30,
      "outputs": [
        {
          "output_type": "stream",
          "text": [
            "1.9\n",
            "1.8\n",
            "1.7\n",
            "1.7\n"
          ],
          "name": "stdout"
        }
      ]
    },
    {
      "cell_type": "code",
      "metadata": {
        "colab": {
          "base_uri": "https://localhost:8080/"
        },
        "id": "Q7DcscPgJvKB",
        "outputId": "60a14837-df8c-4548-8f52-b4d85812ab9f"
      },
      "source": [
        "Pack_IAv1.getPackCalification()"
      ],
      "execution_count": 40,
      "outputs": [
        {
          "output_type": "execute_result",
          "data": {
            "text/plain": [
              "1.8552185548617306"
            ]
          },
          "metadata": {
            "tags": []
          },
          "execution_count": 40
        }
      ]
    },
    {
      "cell_type": "code",
      "metadata": {
        "colab": {
          "base_uri": "https://localhost:8080/",
          "height": 158
        },
        "id": "1avdMCU0LtJF",
        "outputId": "080a6446-8c35-49da-e596-be0345089c92"
      },
      "source": [
        "tickerStrings = ['AAPL', 'MSFT']\n",
        "df = yf.download(tickerStrings, group_by='Ticker', period='2d')\n",
        "df = df.stack(level=0).rename_axis(['Date', 'Ticker']).reset_index(level=1)\n",
        "df[df['Ticker']=='AAPL']"
      ],
      "execution_count": 57,
      "outputs": [
        {
          "output_type": "stream",
          "text": [
            "\r[                       0%                       ]\r[*********************100%***********************]  2 of 2 completed\n"
          ],
          "name": "stdout"
        },
        {
          "output_type": "execute_result",
          "data": {
            "text/html": [
              "<div>\n",
              "<style scoped>\n",
              "    .dataframe tbody tr th:only-of-type {\n",
              "        vertical-align: middle;\n",
              "    }\n",
              "\n",
              "    .dataframe tbody tr th {\n",
              "        vertical-align: top;\n",
              "    }\n",
              "\n",
              "    .dataframe thead th {\n",
              "        text-align: right;\n",
              "    }\n",
              "</style>\n",
              "<table border=\"1\" class=\"dataframe\">\n",
              "  <thead>\n",
              "    <tr style=\"text-align: right;\">\n",
              "      <th></th>\n",
              "      <th>Ticker</th>\n",
              "      <th>Adj Close</th>\n",
              "      <th>Close</th>\n",
              "      <th>High</th>\n",
              "      <th>Low</th>\n",
              "      <th>Open</th>\n",
              "      <th>Volume</th>\n",
              "    </tr>\n",
              "    <tr>\n",
              "      <th>Date</th>\n",
              "      <th></th>\n",
              "      <th></th>\n",
              "      <th></th>\n",
              "      <th></th>\n",
              "      <th></th>\n",
              "      <th></th>\n",
              "      <th></th>\n",
              "    </tr>\n",
              "  </thead>\n",
              "  <tbody>\n",
              "    <tr>\n",
              "      <th>2021-08-09</th>\n",
              "      <td>AAPL</td>\n",
              "      <td>146.089996</td>\n",
              "      <td>146.089996</td>\n",
              "      <td>146.699997</td>\n",
              "      <td>145.520004</td>\n",
              "      <td>146.199997</td>\n",
              "      <td>48908700</td>\n",
              "    </tr>\n",
              "    <tr>\n",
              "      <th>2021-08-10</th>\n",
              "      <td>AAPL</td>\n",
              "      <td>145.600006</td>\n",
              "      <td>145.600006</td>\n",
              "      <td>147.710007</td>\n",
              "      <td>145.300003</td>\n",
              "      <td>146.440002</td>\n",
              "      <td>66428124</td>\n",
              "    </tr>\n",
              "  </tbody>\n",
              "</table>\n",
              "</div>"
            ],
            "text/plain": [
              "           Ticker   Adj Close       Close  ...         Low        Open    Volume\n",
              "Date                                       ...                                  \n",
              "2021-08-09   AAPL  146.089996  146.089996  ...  145.520004  146.199997  48908700\n",
              "2021-08-10   AAPL  145.600006  145.600006  ...  145.300003  146.440002  66428124\n",
              "\n",
              "[2 rows x 7 columns]"
            ]
          },
          "metadata": {
            "tags": []
          },
          "execution_count": 57
        }
      ]
    },
    {
      "cell_type": "code",
      "metadata": {
        "colab": {
          "base_uri": "https://localhost:8080/",
          "height": 128
        },
        "id": "WZ-4q6rJL0GV",
        "outputId": "6d165390-0be4-4176-de47-545d6be58345"
      },
      "source": [
        "df[df.Ticker='AAPL']"
      ],
      "execution_count": 52,
      "outputs": [
        {
          "output_type": "error",
          "ename": "SyntaxError",
          "evalue": "ignored",
          "traceback": [
            "\u001b[0;36m  File \u001b[0;32m\"<ipython-input-52-a7df8b1fba6f>\"\u001b[0;36m, line \u001b[0;32m1\u001b[0m\n\u001b[0;31m    df[df.Ticker='AAPL']\u001b[0m\n\u001b[0m                ^\u001b[0m\n\u001b[0;31mSyntaxError\u001b[0m\u001b[0;31m:\u001b[0m invalid syntax\n"
          ]
        }
      ]
    }
  ]
}